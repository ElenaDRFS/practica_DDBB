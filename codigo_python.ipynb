{
 "cells": [
  {
   "cell_type": "code",
   "execution_count": 2,
   "metadata": {},
   "outputs": [],
   "source": [
    "# Librería para conectarme a PostgreSQL\n",
    "import psycopg2    \n",
    "import pandas as pd\n",
    "\n",
    "# Creo mi base de datos en Render y me da estas credenciales para conectarme\n",
    "host = \"dpg-cl12f72s1bgc73e1chg0-a.frankfurt-postgres.render.com\"\n",
    "port = 5432\n",
    "database = \"proyecto_thebridge\"\n",
    "user = \"proyecto_thebridge_user\"\n",
    "password = \"lTs9oLCPsDp9ujNKqcjc3x6Mkhnso9xh\"\n"
   ]
  },
  {
   "cell_type": "code",
   "execution_count": 3,
   "metadata": {},
   "outputs": [
    {
     "name": "stdout",
     "output_type": "stream",
     "text": [
      "Conexión exitosa a la base de datos en Render\n"
     ]
    }
   ],
   "source": [
    "# Intentamos conectar a la base de datos\n",
    "conn = psycopg2.connect(\n",
    "    host=host,\n",
    "    port=port,\n",
    "    database=database,\n",
    "    user=user,\n",
    "    password=password\n",
    ")\n",
    "print(\"Conexión exitosa a la base de datos en Render\")"
   ]
  },
  {
   "cell_type": "code",
   "execution_count": 89,
   "metadata": {},
   "outputs": [],
   "source": [
    "# Una vez conectada, creamos la tabla\n",
    "cursor = conn.cursor()\n",
    "\n",
    "cursor.execute(\"\"\"\n",
    "            CREATE TABLE \"Profesores\" (\n",
    "                \"Id\" SERIAL PRIMARY KEY,\n",
    "                \"Nombre\" VARCHAR(255) NOT NULL,\n",
    "                \"Vertical\" VARCHAR(255) NOT NULL,\n",
    "                \"Rol\" VARCHAR(255) NOT NULL,\n",
    "                \"Promoción\" VARCHAR(255) NOT NULL,\n",
    "                \"Id_Campus\" VARCHAR(255) NOT NULL)\n",
    "        \"\"\")\n",
    "# Confirmamos la creación de la tabla. El commit es importante porque la Base de datos no está en local\n",
    "conn.commit()\n",
    "\n",
    "# Cerramos la conexión\n",
    "conn.close()"
   ]
  },
  {
   "cell_type": "code",
   "execution_count": 39,
   "metadata": {},
   "outputs": [],
   "source": [
    "# Cargamos el DF\n",
    "\n",
    "df = pd.read_csv('data/vertical.csv')    \n",
    "df = df.drop_duplicates()"
   ]
  },
  {
   "cell_type": "code",
   "execution_count": 42,
   "metadata": {},
   "outputs": [],
   "source": [
    "df['Campus'] = df['Campus'].apply(lambda x: x.replace(\"Madrid\",\"1\"))\n",
    "df['Campus'] = df['Campus'].apply(lambda x: x.replace(\"Valencia\",\"2\"))"
   ]
  },
  {
   "cell_type": "code",
   "execution_count": 43,
   "metadata": {},
   "outputs": [],
   "source": [
    "df['Campus'] = df['Campus'].astype('Int64')"
   ]
  },
  {
   "cell_type": "code",
   "execution_count": 51,
   "metadata": {},
   "outputs": [],
   "source": [
    "df_profesores = pd.read_csv('data/verticales_2.csv', index_col=0)"
   ]
  },
  {
   "cell_type": "code",
   "execution_count": 53,
   "metadata": {},
   "outputs": [
    {
     "data": {
      "text/plain": [
       "Index(['Nombre', 'Rol', 'vertical_id', 'rama', 'promocion'], dtype='object')"
      ]
     },
     "execution_count": 53,
     "metadata": {},
     "output_type": "execute_result"
    }
   ],
   "source": [
    "df_profesores.columns"
   ]
  },
  {
   "cell_type": "code",
   "execution_count": 58,
   "metadata": {},
   "outputs": [],
   "source": [
    "alumnos = pd.read_csv('data/alumnos.csv', index_col=0)"
   ]
  },
  {
   "cell_type": "code",
   "execution_count": 65,
   "metadata": {},
   "outputs": [
    {
     "data": {
      "text/html": [
       "<div>\n",
       "<style scoped>\n",
       "    .dataframe tbody tr th:only-of-type {\n",
       "        vertical-align: middle;\n",
       "    }\n",
       "\n",
       "    .dataframe tbody tr th {\n",
       "        vertical-align: top;\n",
       "    }\n",
       "\n",
       "    .dataframe thead th {\n",
       "        text-align: right;\n",
       "    }\n",
       "</style>\n",
       "<table border=\"1\" class=\"dataframe\">\n",
       "  <thead>\n",
       "    <tr style=\"text-align: right;\">\n",
       "      <th></th>\n",
       "      <th>Nombre</th>\n",
       "      <th>Email</th>\n",
       "      <th>vertical_id</th>\n",
       "    </tr>\n",
       "  </thead>\n",
       "  <tbody>\n",
       "    <tr>\n",
       "      <th>0</th>\n",
       "      <td>Jafet Casals</td>\n",
       "      <td>Jafet_Casals@gmail.com</td>\n",
       "      <td>55</td>\n",
       "    </tr>\n",
       "    <tr>\n",
       "      <th>2</th>\n",
       "      <td>Jorge Manzanares</td>\n",
       "      <td>Jorge_Manzanares@gmail.com</td>\n",
       "      <td>55</td>\n",
       "    </tr>\n",
       "    <tr>\n",
       "      <th>4</th>\n",
       "      <td>Onofre Adadia</td>\n",
       "      <td>Onofre_Adadia@gmail.com</td>\n",
       "      <td>55</td>\n",
       "    </tr>\n",
       "    <tr>\n",
       "      <th>6</th>\n",
       "      <td>Merche Prada</td>\n",
       "      <td>Merche_Prada@gmail.com</td>\n",
       "      <td>55</td>\n",
       "    </tr>\n",
       "    <tr>\n",
       "      <th>8</th>\n",
       "      <td>Pilar Abella</td>\n",
       "      <td>Pilar_Abella@gmail.com</td>\n",
       "      <td>55</td>\n",
       "    </tr>\n",
       "  </tbody>\n",
       "</table>\n",
       "</div>"
      ],
      "text/plain": [
       "             Nombre                       Email  vertical_id\n",
       "0      Jafet Casals      Jafet_Casals@gmail.com           55\n",
       "2  Jorge Manzanares  Jorge_Manzanares@gmail.com           55\n",
       "4     Onofre Adadia     Onofre_Adadia@gmail.com           55\n",
       "6      Merche Prada      Merche_Prada@gmail.com           55\n",
       "8      Pilar Abella      Pilar_Abella@gmail.com           55"
      ]
     },
     "execution_count": 65,
     "metadata": {},
     "output_type": "execute_result"
    }
   ],
   "source": [
    "alumnos.head()"
   ]
  },
  {
   "cell_type": "code",
   "execution_count": 68,
   "metadata": {},
   "outputs": [
    {
     "ename": "ForeignKeyViolation",
     "evalue": "insert or update on table \"alumno\" violates foreign key constraint \"alumno_alumno_id_fkey\"\nDETAIL:  Key (alumno_id)=(4) is not present in table \"expedientes_ds\".\n",
     "output_type": "error",
     "traceback": [
      "\u001b[1;31m---------------------------------------------------------------------------\u001b[0m",
      "\u001b[1;31mForeignKeyViolation\u001b[0m                       Traceback (most recent call last)",
      "\u001b[1;32mc:\\Users\\Ana\\Documents\\BOOTCAMP\\Ana Fdz\\2309_sql_thebridge\\Practica\\4-Proyecto\\prueba_python.ipynb Cell 11\u001b[0m line \u001b[0;36m1\n\u001b[0;32m     <a href='vscode-notebook-cell:/c%3A/Users/Ana/Documents/BOOTCAMP/Ana%20Fdz/2309_sql_thebridge/Practica/4-Proyecto/prueba_python.ipynb#X33sZmlsZQ%3D%3D?line=12'>13</a>\u001b[0m \u001b[39m# Iteramos por las filas y metemos los datos del Df en las columnas correspondientes\u001b[39;00m\n\u001b[0;32m     <a href='vscode-notebook-cell:/c%3A/Users/Ana/Documents/BOOTCAMP/Ana%20Fdz/2309_sql_thebridge/Practica/4-Proyecto/prueba_python.ipynb#X33sZmlsZQ%3D%3D?line=13'>14</a>\u001b[0m \u001b[39mfor\u001b[39;00m index, row \u001b[39min\u001b[39;00m alumnos\u001b[39m.\u001b[39miterrows():\n\u001b[1;32m---> <a href='vscode-notebook-cell:/c%3A/Users/Ana/Documents/BOOTCAMP/Ana%20Fdz/2309_sql_thebridge/Practica/4-Proyecto/prueba_python.ipynb#X33sZmlsZQ%3D%3D?line=14'>15</a>\u001b[0m     cursor\u001b[39m.\u001b[39;49mexecute(\u001b[39m\"\"\"\u001b[39;49m\n\u001b[0;32m     <a href='vscode-notebook-cell:/c%3A/Users/Ana/Documents/BOOTCAMP/Ana%20Fdz/2309_sql_thebridge/Practica/4-Proyecto/prueba_python.ipynb#X33sZmlsZQ%3D%3D?line=15'>16</a>\u001b[0m \u001b[39m        INSERT INTO \u001b[39;49m\u001b[39m\"\u001b[39;49m\u001b[39malumno\u001b[39;49m\u001b[39m\"\u001b[39;49m\u001b[39m (\u001b[39;49m\u001b[39m\"\u001b[39;49m\u001b[39mnombre\u001b[39;49m\u001b[39m\"\u001b[39;49m\u001b[39m, \u001b[39;49m\u001b[39m\"\u001b[39;49m\u001b[39memail\u001b[39;49m\u001b[39m\"\u001b[39;49m\u001b[39m, \u001b[39;49m\u001b[39m\"\u001b[39;49m\u001b[39mvertical_id\u001b[39;49m\u001b[39m\"\u001b[39;49m\u001b[39m)\u001b[39;49m\n\u001b[0;32m     <a href='vscode-notebook-cell:/c%3A/Users/Ana/Documents/BOOTCAMP/Ana%20Fdz/2309_sql_thebridge/Practica/4-Proyecto/prueba_python.ipynb#X33sZmlsZQ%3D%3D?line=16'>17</a>\u001b[0m \u001b[39m        VALUES (\u001b[39;49m\u001b[39m%s\u001b[39;49;00m\u001b[39m, \u001b[39;49m\u001b[39m%s\u001b[39;49;00m\u001b[39m, \u001b[39;49m\u001b[39m%s\u001b[39;49;00m\u001b[39m)\u001b[39;49m\n\u001b[0;32m     <a href='vscode-notebook-cell:/c%3A/Users/Ana/Documents/BOOTCAMP/Ana%20Fdz/2309_sql_thebridge/Practica/4-Proyecto/prueba_python.ipynb#X33sZmlsZQ%3D%3D?line=17'>18</a>\u001b[0m \u001b[39m    \u001b[39;49m\u001b[39m\"\"\"\u001b[39;49m, (row[\u001b[39m'\u001b[39;49m\u001b[39mNombre\u001b[39;49m\u001b[39m'\u001b[39;49m], row[\u001b[39m'\u001b[39;49m\u001b[39mEmail\u001b[39;49m\u001b[39m'\u001b[39;49m], row[\u001b[39m'\u001b[39;49m\u001b[39mvertical_id\u001b[39;49m\u001b[39m'\u001b[39;49m]))\n\u001b[0;32m     <a href='vscode-notebook-cell:/c%3A/Users/Ana/Documents/BOOTCAMP/Ana%20Fdz/2309_sql_thebridge/Practica/4-Proyecto/prueba_python.ipynb#X33sZmlsZQ%3D%3D?line=18'>19</a>\u001b[0m conn\u001b[39m.\u001b[39mcommit()\n\u001b[0;32m     <a href='vscode-notebook-cell:/c%3A/Users/Ana/Documents/BOOTCAMP/Ana%20Fdz/2309_sql_thebridge/Practica/4-Proyecto/prueba_python.ipynb#X33sZmlsZQ%3D%3D?line=19'>20</a>\u001b[0m \u001b[39m# cursor.close()\u001b[39;00m\n",
      "\u001b[1;31mForeignKeyViolation\u001b[0m: insert or update on table \"alumno\" violates foreign key constraint \"alumno_alumno_id_fkey\"\nDETAIL:  Key (alumno_id)=(4) is not present in table \"expedientes_ds\".\n"
     ]
    }
   ],
   "source": []
  },
  {
   "cell_type": "code",
   "execution_count": 72,
   "metadata": {},
   "outputs": [],
   "source": [
    "listado_ds_1 = pd.read_csv('data/listado_DS_clase_1.csv', sep=\";\")"
   ]
  },
  {
   "cell_type": "code",
   "execution_count": 83,
   "metadata": {},
   "outputs": [],
   "source": [
    "listado_ds_2 = pd.read_csv('data/listado_DS_clase_2.csv', sep=\";\")"
   ]
  },
  {
   "cell_type": "code",
   "execution_count": 82,
   "metadata": {},
   "outputs": [],
   "source": [
    "listado_ds_1 = listado_ds_1.drop(columns=['Email', 'Promoción', 'Fecha_comienzo', 'Campus'])"
   ]
  },
  {
   "cell_type": "code",
   "execution_count": 84,
   "metadata": {},
   "outputs": [],
   "source": [
    "listado_ds_2 = listado_ds_2.drop(columns=['Email', 'Promoción', 'Fecha_comienzo', 'Campus'])"
   ]
  },
  {
   "cell_type": "code",
   "execution_count": 87,
   "metadata": {},
   "outputs": [],
   "source": [
    "alumnos_ds = pd.concat([listado_ds_1, listado_ds_2])"
   ]
  },
  {
   "cell_type": "code",
   "execution_count": 88,
   "metadata": {},
   "outputs": [
    {
     "data": {
      "text/plain": [
       "Index(['Nombre', 'Proyecto_HLF', 'Proyecto_EDA', 'Proyecto_BBDD',\n",
       "       'Proyecto_ML', 'Proyecto_Deployment'],\n",
       "      dtype='object')"
      ]
     },
     "execution_count": 88,
     "metadata": {},
     "output_type": "execute_result"
    }
   ],
   "source": [
    "alumnos_ds.columns"
   ]
  },
  {
   "cell_type": "code",
   "execution_count": 91,
   "metadata": {},
   "outputs": [],
   "source": [
    "\n",
    "# Volvemos a crear la conexión \n",
    "\n",
    "conn = psycopg2.connect(\n",
    "        host=host,\n",
    "        port=port,\n",
    "        database=database,\n",
    "        user=user,\n",
    "        password=password\n",
    "    )\n",
    "\n",
    "cursor = conn.cursor()\n",
    "\n",
    "# Iteramos por las filas y metemos los datos del Df en las columnas correspondientes\n",
    "for index, row in alumnos_ds.iterrows():\n",
    "    cursor.execute(\"\"\"\n",
    "        INSERT INTO \"expedientes_ds\" (\"proyecto_hlf\", \"proyecto_eda\", \"proyecto_bbdd\", \"proyecto_ml\", \"proyecto_deployment\")\n",
    "        VALUES (%s, %s, %s, %s, %s)\n",
    "    \"\"\", (row['Proyecto_HLF'], row['Proyecto_EDA'], row['Proyecto_BBDD'], row['Proyecto_ML'], row['Proyecto_Deployment']))\n",
    "conn.commit()\n",
    "# cursor.close()"
   ]
  },
  {
   "cell_type": "code",
   "execution_count": 99,
   "metadata": {},
   "outputs": [
    {
     "data": {
      "text/plain": [
       "Index(['Nombre', 'Email', 'Promoción', 'Fecha_comienzo', 'Campus',\n",
       "       'Proyecto_WebDev', 'Proyecto_FrontEnd', 'Proyecto_Backend',\n",
       "       'Proyecto_React', 'Proyecto_FullSatck'],\n",
       "      dtype='object')"
      ]
     },
     "execution_count": 99,
     "metadata": {},
     "output_type": "execute_result"
    }
   ],
   "source": [
    "listado_fs_1.columns"
   ]
  },
  {
   "cell_type": "code",
   "execution_count": 102,
   "metadata": {},
   "outputs": [],
   "source": [
    "listado_fs_1 = pd.read_csv('data/listado_FS_clase_1.csv', sep=\";\")\n",
    "listado_fs_2 = pd.read_csv('data/listado_FS_clase_2.csv', sep=\";\")\n",
    "listado_fs_1 = listado_fs_1.drop(columns=['Email', 'Promoción', 'Fecha_comienzo', 'Campus'])\n",
    "listado_fs_2 = listado_fs_2.drop(columns=['Email', 'Promoción', 'Fecha_comienzo', 'Campus'])\n",
    "alumnos_fs = pd.concat([listado_fs_1, listado_fs_2])"
   ]
  },
  {
   "cell_type": "code",
   "execution_count": 106,
   "metadata": {},
   "outputs": [
    {
     "data": {
      "text/plain": [
       "Index(['Nombre', 'Proyecto_WebDev', 'Proyecto_FrontEnd', 'Proyecto_Backend',\n",
       "       'Proyecto_React', 'Proyecto_FullSatck'],\n",
       "      dtype='object')"
      ]
     },
     "execution_count": 106,
     "metadata": {},
     "output_type": "execute_result"
    }
   ],
   "source": [
    "alumnos_fs.columns"
   ]
  },
  {
   "cell_type": "code",
   "execution_count": 109,
   "metadata": {},
   "outputs": [],
   "source": [
    "\n",
    "# Volvemos a crear la conexión \n",
    "\n",
    "conn = psycopg2.connect(\n",
    "        host=host,\n",
    "        port=port,\n",
    "        database=database,\n",
    "        user=user,\n",
    "        password=password\n",
    "    )\n",
    "\n",
    "cursor = conn.cursor()\n",
    "\n",
    "# Iteramos por las filas y metemos los datos del Df en las columnas correspondientes\n",
    "for index, row in alumnos_fs.iterrows():\n",
    "    cursor.execute(\"\"\"\n",
    "        INSERT INTO \"expediente_fs\" (\"proyecto_webdev\", \"proyecto_frontend\", \"proyecto_backend\", \"proyecto_react\", \"proyecto_fullstack\")\n",
    "        VALUES (%s, %s, %s, %s, %s)\n",
    "    \"\"\", (row['Proyecto_WebDev'], row['Proyecto_FrontEnd'], row['Proyecto_Backend'], row['Proyecto_React'], row['Proyecto_FullSatck']))\n",
    "conn.commit()\n",
    "# cursor.close()"
   ]
  },
  {
   "cell_type": "code",
   "execution_count": 113,
   "metadata": {},
   "outputs": [],
   "source": [
    "# Para hacer consulta de los datos subidos a SQL\n",
    "conn = psycopg2.connect(\n",
    "            host=host,\n",
    "            port=port,\n",
    "            database=database,\n",
    "            user=user,\n",
    "            password=password\n",
    "        )\n",
    "cursor = conn.cursor()\n",
    "\n",
    "cursor.execute('SELECT * FROM \"expediente_fs\"')\n",
    "\n",
    "# Recupera los resultados de la consulta\n",
    "rows = cursor.fetchall()\n",
    "\n",
    "cursor.execute('SELECT * FROM \"expedientes_ds\"')\n",
    "# Me lo muestra como un DF\n",
    "rows2 = cursor.fetchall()\n"
   ]
  },
  {
   "cell_type": "code",
   "execution_count": 115,
   "metadata": {},
   "outputs": [],
   "source": [
    "alumnos_ds_query = pd.DataFrame(data=rows2)\n",
    "alumnos_fs_query = pd.DataFrame( data=rows)"
   ]
  },
  {
   "cell_type": "code",
   "execution_count": 118,
   "metadata": {},
   "outputs": [],
   "source": [
    "alumnos_ds_query = alumnos_ds_query.drop(columns=[1,2,3,4,5])\n",
    "alumnos_fs_query = alumnos_fs_query.drop(columns=[1,2,3,4,5])"
   ]
  },
  {
   "cell_type": "code",
   "execution_count": 120,
   "metadata": {},
   "outputs": [],
   "source": [
    "alumnos_concat = pd.concat([alumnos_ds_query, alumnos_fs_query])"
   ]
  },
  {
   "cell_type": "code",
   "execution_count": 123,
   "metadata": {},
   "outputs": [
    {
     "data": {
      "text/plain": [
       "(52, 1)"
      ]
     },
     "execution_count": 123,
     "metadata": {},
     "output_type": "execute_result"
    }
   ],
   "source": [
    "alumnos_concat.shape"
   ]
  },
  {
   "cell_type": "code",
   "execution_count": 130,
   "metadata": {},
   "outputs": [
    {
     "data": {
      "text/plain": [
       "RangeIndex(start=0, stop=1, step=1)"
      ]
     },
     "execution_count": 130,
     "metadata": {},
     "output_type": "execute_result"
    }
   ],
   "source": [
    "alumnos_concat.columns"
   ]
  },
  {
   "cell_type": "code",
   "execution_count": 150,
   "metadata": {},
   "outputs": [
    {
     "data": {
      "text/plain": [
       "array([[ 5],\n",
       "       [ 6],\n",
       "       [ 7],\n",
       "       [ 8],\n",
       "       [ 9],\n",
       "       [10],\n",
       "       [11],\n",
       "       [12],\n",
       "       [13],\n",
       "       [14],\n",
       "       [15],\n",
       "       [16],\n",
       "       [17],\n",
       "       [18],\n",
       "       [19],\n",
       "       [20],\n",
       "       [21],\n",
       "       [22],\n",
       "       [23],\n",
       "       [24],\n",
       "       [25],\n",
       "       [26],\n",
       "       [27],\n",
       "       [28],\n",
       "       [29],\n",
       "       [30],\n",
       "       [31],\n",
       "       [32],\n",
       "       [33],\n",
       "       [34],\n",
       "       [35],\n",
       "       [36],\n",
       "       [37],\n",
       "       [38],\n",
       "       [39],\n",
       "       [40],\n",
       "       [41],\n",
       "       [42],\n",
       "       [43],\n",
       "       [44],\n",
       "       [45],\n",
       "       [46],\n",
       "       [47],\n",
       "       [48],\n",
       "       [49],\n",
       "       [50],\n",
       "       [51],\n",
       "       [52],\n",
       "       [53],\n",
       "       [54],\n",
       "       [55],\n",
       "       [56]], dtype=int64)"
      ]
     },
     "execution_count": 150,
     "metadata": {},
     "output_type": "execute_result"
    }
   ],
   "source": [
    "alumnos_concat.values"
   ]
  },
  {
   "cell_type": "code",
   "execution_count": 151,
   "metadata": {},
   "outputs": [],
   "source": [
    "alumnos['alumnos_id'] = alumnos_concat.values"
   ]
  },
  {
   "cell_type": "code",
   "execution_count": 161,
   "metadata": {},
   "outputs": [
    {
     "data": {
      "text/html": [
       "<div>\n",
       "<style scoped>\n",
       "    .dataframe tbody tr th:only-of-type {\n",
       "        vertical-align: middle;\n",
       "    }\n",
       "\n",
       "    .dataframe tbody tr th {\n",
       "        vertical-align: top;\n",
       "    }\n",
       "\n",
       "    .dataframe thead th {\n",
       "        text-align: right;\n",
       "    }\n",
       "</style>\n",
       "<table border=\"1\" class=\"dataframe\">\n",
       "  <thead>\n",
       "    <tr style=\"text-align: right;\">\n",
       "      <th></th>\n",
       "      <th>Nombre</th>\n",
       "      <th>Email</th>\n",
       "      <th>vertical_id</th>\n",
       "      <th>alumnos_id</th>\n",
       "    </tr>\n",
       "  </thead>\n",
       "  <tbody>\n",
       "    <tr>\n",
       "      <th>0</th>\n",
       "      <td>Jafet Casals</td>\n",
       "      <td>Jafet_Casals@gmail.com</td>\n",
       "      <td>55</td>\n",
       "      <td>5</td>\n",
       "    </tr>\n",
       "  </tbody>\n",
       "</table>\n",
       "</div>"
      ],
      "text/plain": [
       "         Nombre                   Email  vertical_id  alumnos_id\n",
       "0  Jafet Casals  Jafet_Casals@gmail.com           55           5"
      ]
     },
     "execution_count": 161,
     "metadata": {},
     "output_type": "execute_result"
    }
   ],
   "source": [
    "alumnos[alumnos['alumnos_id']==5]"
   ]
  },
  {
   "cell_type": "code",
   "execution_count": 162,
   "metadata": {},
   "outputs": [],
   "source": [
    "# Volvemos a crear la conexión \n",
    "\n",
    "conn = psycopg2.connect(\n",
    "        host=host,\n",
    "        port=port,\n",
    "        database=database,\n",
    "        user=user,\n",
    "        password=password\n",
    "    )\n",
    "\n",
    "cursor = conn.cursor()\n",
    "\n",
    "# Iteramos por las filas y metemos los datos del Df en las columnas correspondientes\n",
    "for index, row in alumnos.iterrows():\n",
    "    cursor.execute(\"\"\"\n",
    "        INSERT INTO \"alumno\" (\"nombre\", \"email\", \"vertical_id\", \"alumno_id\")\n",
    "        VALUES (%s, %s, %s, %s)\n",
    "    \"\"\", (row['Nombre'], row['Email'], row['vertical_id'], row['alumnos_id']))\n",
    "conn.commit()\n",
    "# cursor.close()"
   ]
  },
  {
   "cell_type": "code",
   "execution_count": 163,
   "metadata": {},
   "outputs": [],
   "source": [
    "conn.close()"
   ]
  },
  {
   "cell_type": "code",
   "execution_count": 48,
   "metadata": {},
   "outputs": [],
   "source": [
    "df = pd.DataFrame(columns=[\"vertical_id\",\"rama\", \"promocion\", \"fecha_inicio\", \"campus\"], data=rows)"
   ]
  },
  {
   "cell_type": "code",
   "execution_count": 49,
   "metadata": {},
   "outputs": [
    {
     "data": {
      "text/html": [
       "<div>\n",
       "<style scoped>\n",
       "    .dataframe tbody tr th:only-of-type {\n",
       "        vertical-align: middle;\n",
       "    }\n",
       "\n",
       "    .dataframe tbody tr th {\n",
       "        vertical-align: top;\n",
       "    }\n",
       "\n",
       "    .dataframe thead th {\n",
       "        text-align: right;\n",
       "    }\n",
       "</style>\n",
       "<table border=\"1\" class=\"dataframe\">\n",
       "  <thead>\n",
       "    <tr style=\"text-align: right;\">\n",
       "      <th></th>\n",
       "      <th>vertical_id</th>\n",
       "      <th>rama</th>\n",
       "      <th>promocion</th>\n",
       "      <th>fecha_inicio</th>\n",
       "      <th>campus</th>\n",
       "    </tr>\n",
       "  </thead>\n",
       "  <tbody>\n",
       "    <tr>\n",
       "      <th>0</th>\n",
       "      <td>55</td>\n",
       "      <td>DS</td>\n",
       "      <td>Septiembre</td>\n",
       "      <td>2023-09-18</td>\n",
       "      <td>1</td>\n",
       "    </tr>\n",
       "    <tr>\n",
       "      <th>1</th>\n",
       "      <td>56</td>\n",
       "      <td>DS</td>\n",
       "      <td>Febrero</td>\n",
       "      <td>2024-02-12</td>\n",
       "      <td>1</td>\n",
       "    </tr>\n",
       "    <tr>\n",
       "      <th>2</th>\n",
       "      <td>57</td>\n",
       "      <td>FS</td>\n",
       "      <td>Septiembre</td>\n",
       "      <td>2023-09-18</td>\n",
       "      <td>1</td>\n",
       "    </tr>\n",
       "    <tr>\n",
       "      <th>3</th>\n",
       "      <td>58</td>\n",
       "      <td>FS</td>\n",
       "      <td>Febrero</td>\n",
       "      <td>2024-02-12</td>\n",
       "      <td>2</td>\n",
       "    </tr>\n",
       "  </tbody>\n",
       "</table>\n",
       "</div>"
      ],
      "text/plain": [
       "   vertical_id rama   promocion fecha_inicio  campus\n",
       "0           55   DS  Septiembre   2023-09-18       1\n",
       "1           56   DS     Febrero   2024-02-12       1\n",
       "2           57   FS  Septiembre   2023-09-18       1\n",
       "3           58   FS     Febrero   2024-02-12       2"
      ]
     },
     "execution_count": 49,
     "metadata": {},
     "output_type": "execute_result"
    }
   ],
   "source": [
    "df"
   ]
  },
  {
   "cell_type": "code",
   "execution_count": 50,
   "metadata": {},
   "outputs": [],
   "source": [
    "df.to_csv(\"verticales_sql.csv\")"
   ]
  },
  {
   "cell_type": "code",
   "execution_count": 92,
   "metadata": {},
   "outputs": [
    {
     "data": {
      "text/html": [
       "<div>\n",
       "<style scoped>\n",
       "    .dataframe tbody tr th:only-of-type {\n",
       "        vertical-align: middle;\n",
       "    }\n",
       "\n",
       "    .dataframe tbody tr th {\n",
       "        vertical-align: top;\n",
       "    }\n",
       "\n",
       "    .dataframe thead th {\n",
       "        text-align: right;\n",
       "    }\n",
       "</style>\n",
       "<table border=\"1\" class=\"dataframe\">\n",
       "  <thead>\n",
       "    <tr style=\"text-align: right;\">\n",
       "      <th></th>\n",
       "      <th>0</th>\n",
       "      <th>1</th>\n",
       "      <th>2</th>\n",
       "      <th>3</th>\n",
       "      <th>4</th>\n",
       "      <th>5</th>\n",
       "    </tr>\n",
       "  </thead>\n",
       "  <tbody>\n",
       "    <tr>\n",
       "      <th>0</th>\n",
       "      <td>1</td>\n",
       "      <td>Noa Yáñez</td>\n",
       "      <td>DS</td>\n",
       "      <td>TA</td>\n",
       "      <td>Septiembre</td>\n",
       "      <td>Madrid</td>\n",
       "    </tr>\n",
       "    <tr>\n",
       "      <th>1</th>\n",
       "      <td>2</td>\n",
       "      <td>Saturnina Benitez</td>\n",
       "      <td>DS</td>\n",
       "      <td>TA</td>\n",
       "      <td>Septiembre</td>\n",
       "      <td>Madrid</td>\n",
       "    </tr>\n",
       "    <tr>\n",
       "      <th>2</th>\n",
       "      <td>3</td>\n",
       "      <td>Anna Feliu</td>\n",
       "      <td>FS</td>\n",
       "      <td>TA</td>\n",
       "      <td>Septiembre</td>\n",
       "      <td>Madrid</td>\n",
       "    </tr>\n",
       "    <tr>\n",
       "      <th>3</th>\n",
       "      <td>4</td>\n",
       "      <td>Rosalva Ayuso</td>\n",
       "      <td>FS</td>\n",
       "      <td>TA</td>\n",
       "      <td>Septiembre</td>\n",
       "      <td>Valencia</td>\n",
       "    </tr>\n",
       "    <tr>\n",
       "      <th>4</th>\n",
       "      <td>5</td>\n",
       "      <td>Ana Sofía Ferrer</td>\n",
       "      <td>FS</td>\n",
       "      <td>TA</td>\n",
       "      <td>Febrero</td>\n",
       "      <td>Valencia</td>\n",
       "    </tr>\n",
       "    <tr>\n",
       "      <th>5</th>\n",
       "      <td>6</td>\n",
       "      <td>Angélica Corral</td>\n",
       "      <td>FS</td>\n",
       "      <td>TA</td>\n",
       "      <td>Febrero</td>\n",
       "      <td>Madrid</td>\n",
       "    </tr>\n",
       "    <tr>\n",
       "      <th>6</th>\n",
       "      <td>7</td>\n",
       "      <td>Ariel Lledó</td>\n",
       "      <td>DS</td>\n",
       "      <td>TA</td>\n",
       "      <td>Septiembre</td>\n",
       "      <td>Madrid</td>\n",
       "    </tr>\n",
       "    <tr>\n",
       "      <th>7</th>\n",
       "      <td>8</td>\n",
       "      <td>Mario Prats</td>\n",
       "      <td>FS</td>\n",
       "      <td>LI</td>\n",
       "      <td>Febrero</td>\n",
       "      <td>Valencia</td>\n",
       "    </tr>\n",
       "    <tr>\n",
       "      <th>8</th>\n",
       "      <td>9</td>\n",
       "      <td>Luis Ángel Suárez</td>\n",
       "      <td>FS</td>\n",
       "      <td>LI</td>\n",
       "      <td>Septiembre</td>\n",
       "      <td>Madrid</td>\n",
       "    </tr>\n",
       "    <tr>\n",
       "      <th>9</th>\n",
       "      <td>10</td>\n",
       "      <td>María Dolores Diaz</td>\n",
       "      <td>DS</td>\n",
       "      <td>LI</td>\n",
       "      <td>Septiembre</td>\n",
       "      <td>Madrid</td>\n",
       "    </tr>\n",
       "  </tbody>\n",
       "</table>\n",
       "</div>"
      ],
      "text/plain": [
       "    0                   1   2   3           4         5\n",
       "0   1           Noa Yáñez  DS  TA  Septiembre    Madrid\n",
       "1   2   Saturnina Benitez  DS  TA  Septiembre    Madrid\n",
       "2   3          Anna Feliu  FS  TA  Septiembre    Madrid\n",
       "3   4       Rosalva Ayuso  FS  TA  Septiembre  Valencia\n",
       "4   5    Ana Sofía Ferrer  FS  TA     Febrero  Valencia\n",
       "5   6     Angélica Corral  FS  TA     Febrero    Madrid\n",
       "6   7         Ariel Lledó  DS  TA  Septiembre    Madrid\n",
       "7   8         Mario Prats  FS  LI     Febrero  Valencia\n",
       "8   9   Luis Ángel Suárez  FS  LI  Septiembre    Madrid\n",
       "9  10  María Dolores Diaz  DS  LI  Septiembre    Madrid"
      ]
     },
     "execution_count": 92,
     "metadata": {},
     "output_type": "execute_result"
    }
   ],
   "source": [
    "# Para borrar la tabla\n",
    "# cursor.execute('''\n",
    "#                 DROP TABLE \"Profesores\"\n",
    "#                 ''')\n",
    "# conn.commit()\n",
    "# cursor.close()"
   ]
  },
  {
   "cell_type": "code",
   "execution_count": 1,
   "metadata": {},
   "outputs": [
    {
     "ename": "NameError",
     "evalue": "name 'cursor' is not defined",
     "output_type": "error",
     "traceback": [
      "\u001b[1;31m---------------------------------------------------------------------------\u001b[0m",
      "\u001b[1;31mNameError\u001b[0m                                 Traceback (most recent call last)",
      "\u001b[1;32mc:\\Users\\Ana\\Documents\\BOOTCAMP\\Ana Fdz\\2309_sql_thebridge\\Practica\\4-Proyecto\\prueba_python.ipynb Cell 7\u001b[0m line \u001b[0;36m1\n\u001b[1;32m----> <a href='vscode-notebook-cell:/c%3A/Users/Ana/Documents/BOOTCAMP/Ana%20Fdz/2309_sql_thebridge/Practica/4-Proyecto/prueba_python.ipynb#W6sZmlsZQ%3D%3D?line=0'>1</a>\u001b[0m cursor\u001b[39m.\u001b[39mclose()\n",
      "\u001b[1;31mNameError\u001b[0m: name 'cursor' is not defined"
     ]
    }
   ],
   "source": [
    "cursor.close()"
   ]
  }
 ],
 "metadata": {
  "kernelspec": {
   "display_name": "Python 3",
   "language": "python",
   "name": "python3"
  },
  "language_info": {
   "codemirror_mode": {
    "name": "ipython",
    "version": 3
   },
   "file_extension": ".py",
   "mimetype": "text/x-python",
   "name": "python",
   "nbconvert_exporter": "python",
   "pygments_lexer": "ipython3",
   "version": "3.11.3"
  }
 },
 "nbformat": 4,
 "nbformat_minor": 2
}
